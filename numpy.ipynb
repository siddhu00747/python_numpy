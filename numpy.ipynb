{
 "cells": [
  {
   "cell_type": "code",
   "execution_count": 17,
   "id": "3e30ca99-3026-4464-bf42-6952eef5c68f",
   "metadata": {},
   "outputs": [],
   "source": [
    "import numpy as np"
   ]
  },
  {
   "cell_type": "code",
   "execution_count": 18,
   "id": "b3a828f9-b77c-44b5-8a1e-70da57dc970b",
   "metadata": {},
   "outputs": [
    {
     "data": {
      "text/plain": [
       "array([ 1.        ,  1.81818182,  2.63636364,  3.45454545,  4.27272727,\n",
       "        5.09090909,  5.90909091,  6.72727273,  7.54545455,  8.36363636,\n",
       "        9.18181818, 10.        ])"
      ]
     },
     "execution_count": 18,
     "metadata": {},
     "output_type": "execute_result"
    }
   ],
   "source": [
    "space=np.linspace(1,10,12) \n",
    "space"
   ]
  },
  {
   "cell_type": "code",
   "execution_count": 19,
   "id": "fda5c357-7cd9-428e-87f3-b81f45626f76",
   "metadata": {},
   "outputs": [],
   "source": [
    "ais= space.astype(int)"
   ]
  },
  {
   "cell_type": "code",
   "execution_count": 20,
   "id": "6e652790-2d0d-4270-9a83-98623ea225f6",
   "metadata": {},
   "outputs": [
    {
     "data": {
      "text/plain": [
       "array([ 1,  1,  2,  3,  4,  5,  5,  6,  7,  8,  9, 10])"
      ]
     },
     "execution_count": 20,
     "metadata": {},
     "output_type": "execute_result"
    }
   ],
   "source": [
    "ais"
   ]
  },
  {
   "cell_type": "code",
   "execution_count": 21,
   "id": "52866ba8-6d58-4db3-885d-6a9ab5a1155f",
   "metadata": {},
   "outputs": [],
   "source": [
    "space[2]=1"
   ]
  },
  {
   "cell_type": "code",
   "execution_count": 22,
   "id": "f6714aef-b015-4d93-9a1c-55d914a16e41",
   "metadata": {},
   "outputs": [
    {
     "data": {
      "text/plain": [
       "array([ 1.        ,  1.81818182,  1.        ,  3.45454545,  4.27272727,\n",
       "        5.09090909,  5.90909091,  6.72727273,  7.54545455,  8.36363636,\n",
       "        9.18181818, 10.        ])"
      ]
     },
     "execution_count": 22,
     "metadata": {},
     "output_type": "execute_result"
    }
   ],
   "source": [
    "space"
   ]
  },
  {
   "cell_type": "code",
   "execution_count": 23,
   "id": "9b8a1a1e-d3be-4be5-b906-8837cf296648",
   "metadata": {},
   "outputs": [],
   "source": [
    "ww=space.sum()"
   ]
  },
  {
   "cell_type": "code",
   "execution_count": 24,
   "id": "ef1d7b58-9e7f-4fd7-84c4-fb79591bfa72",
   "metadata": {},
   "outputs": [
    {
     "data": {
      "text/plain": [
       "64.36363636363637"
      ]
     },
     "execution_count": 24,
     "metadata": {},
     "output_type": "execute_result"
    }
   ],
   "source": [
    "ww"
   ]
  },
  {
   "cell_type": "code",
   "execution_count": 25,
   "id": "84056366-fd17-48f0-b16f-0082d4f7a217",
   "metadata": {},
   "outputs": [],
   "source": [
    "sw=np.array([[1,4,8],[6,5,4],[5,2,8]])"
   ]
  },
  {
   "cell_type": "code",
   "execution_count": 26,
   "id": "76823ba5-4d8a-4865-8cee-4faeac9808d0",
   "metadata": {},
   "outputs": [
    {
     "data": {
      "text/plain": [
       "6"
      ]
     },
     "execution_count": 26,
     "metadata": {},
     "output_type": "execute_result"
    }
   ],
   "source": [
    "sw[1][0]"
   ]
  },
  {
   "cell_type": "code",
   "execution_count": 27,
   "id": "71f66986-ddef-4365-8559-92a58a0a7e35",
   "metadata": {},
   "outputs": [],
   "source": [
    "aq=([1,4,5,9,8,5,2,36,5])"
   ]
  },
  {
   "cell_type": "code",
   "execution_count": 28,
   "id": "b5c4947c-8248-488c-b8bf-afd664f6b18c",
   "metadata": {},
   "outputs": [],
   "source": [
    "aq.sort()\n"
   ]
  },
  {
   "cell_type": "code",
   "execution_count": 29,
   "id": "44973d7e-f8fa-47c5-82f1-0ac179f94599",
   "metadata": {},
   "outputs": [
    {
     "data": {
      "text/plain": [
       "[1, 2, 4, 5, 5, 5, 8, 9, 36]"
      ]
     },
     "execution_count": 29,
     "metadata": {},
     "output_type": "execute_result"
    }
   ],
   "source": [
    "aq"
   ]
  },
  {
   "cell_type": "code",
   "execution_count": 30,
   "id": "b0b0a168-4577-4b0f-bd77-19ff608a400f",
   "metadata": {},
   "outputs": [],
   "source": [
    "sq2=np.array([[1,5,8],[6,51,4],[51,2,8]])"
   ]
  },
  {
   "cell_type": "code",
   "execution_count": 31,
   "id": "cfda567e-8462-4828-8c3c-249dcfea30fc",
   "metadata": {},
   "outputs": [
    {
     "data": {
      "text/plain": [
       "array([[ 2,  9, 16],\n",
       "       [12, 56,  8],\n",
       "       [56,  4, 16]])"
      ]
     },
     "execution_count": 31,
     "metadata": {},
     "output_type": "execute_result"
    }
   ],
   "source": [
    "sw+sq2"
   ]
  },
  {
   "cell_type": "code",
   "execution_count": null,
   "id": "5dc9089d-5336-4808-9d83-118c45a1742c",
   "metadata": {},
   "outputs": [],
   "source": []
  },
  {
   "cell_type": "code",
   "execution_count": null,
   "id": "911faf5b-2bdd-4b5b-9466-b5f13a569e21",
   "metadata": {},
   "outputs": [],
   "source": []
  }
 ],
 "metadata": {
  "kernelspec": {
   "display_name": "Python 3 (ipykernel)",
   "language": "python",
   "name": "python3"
  },
  "language_info": {
   "codemirror_mode": {
    "name": "ipython",
    "version": 3
   },
   "file_extension": ".py",
   "mimetype": "text/x-python",
   "name": "python",
   "nbconvert_exporter": "python",
   "pygments_lexer": "ipython3",
   "version": "3.12.0"
  }
 },
 "nbformat": 4,
 "nbformat_minor": 5
}
